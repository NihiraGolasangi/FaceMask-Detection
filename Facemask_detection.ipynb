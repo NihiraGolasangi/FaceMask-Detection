{
 "cells": [
  {
   "cell_type": "code",
   "execution_count": 38,
   "id": "greater-fence",
   "metadata": {},
   "outputs": [],
   "source": [
    "import numpy as np\n",
    "import cv2\n",
    "import os\n",
    "from tensorflow.keras.models import load_model"
   ]
  },
  {
   "cell_type": "markdown",
   "id": "secondary-consumption",
   "metadata": {},
   "source": [
    "# Train"
   ]
  },
  {
   "cell_type": "code",
   "execution_count": 2,
   "id": "amended-provincial",
   "metadata": {},
   "outputs": [],
   "source": [
    "img_with=[]\n",
    "for i in os.listdir(r'C:\\Users\\Lenovo\\Downloads\\facemask data\\Face Mask Dataset\\Train\\WithMask'):\n",
    "    img=cv2.imread(os.path.join(r'C:\\Users\\Lenovo\\Downloads\\facemask data\\Face Mask Dataset\\Train\\WithMask',i))\n",
    "    img=cv2.resize(img,(28,28))\n",
    "    img_with.append(img)"
   ]
  },
  {
   "cell_type": "code",
   "execution_count": 3,
   "id": "attended-wyoming",
   "metadata": {},
   "outputs": [],
   "source": [
    "img_without=[]\n",
    "for i in os.listdir(r'C:\\Users\\Lenovo\\Downloads\\facemask data\\Face Mask Dataset\\Train\\WithoutMask'):\n",
    "    img=cv2.imread(os.path.join(r'C:\\Users\\Lenovo\\Downloads\\facemask data\\Face Mask Dataset\\Train\\WithoutMask',i))\n",
    "    img=cv2.resize(img,(28,28))\n",
    "    img_without.append(img)"
   ]
  },
  {
   "cell_type": "code",
   "execution_count": 4,
   "id": "criminal-language",
   "metadata": {},
   "outputs": [
    {
     "data": {
      "text/plain": [
       "5000"
      ]
     },
     "execution_count": 4,
     "metadata": {},
     "output_type": "execute_result"
    }
   ],
   "source": [
    "len(img_with)"
   ]
  },
  {
   "cell_type": "code",
   "execution_count": 5,
   "id": "japanese-filter",
   "metadata": {},
   "outputs": [
    {
     "data": {
      "text/plain": [
       "5000"
      ]
     },
     "execution_count": 5,
     "metadata": {},
     "output_type": "execute_result"
    }
   ],
   "source": [
    "len(img_without)"
   ]
  },
  {
   "cell_type": "code",
   "execution_count": 6,
   "id": "alternative-paint",
   "metadata": {},
   "outputs": [],
   "source": [
    "x=img_with + img_without"
   ]
  },
  {
   "cell_type": "code",
   "execution_count": 7,
   "id": "outdoor-panel",
   "metadata": {},
   "outputs": [],
   "source": [
    "y=[]# 0=>with 1=>without\n",
    "for i in range(len(img_with)):\n",
    "    y.append(0)"
   ]
  },
  {
   "cell_type": "code",
   "execution_count": 8,
   "id": "monetary-trash",
   "metadata": {},
   "outputs": [],
   "source": [
    "for i in range(len(img_without)):\n",
    "    y.append(1)"
   ]
  },
  {
   "cell_type": "code",
   "execution_count": 9,
   "id": "immune-missile",
   "metadata": {},
   "outputs": [
    {
     "data": {
      "text/plain": [
       "10000"
      ]
     },
     "execution_count": 9,
     "metadata": {},
     "output_type": "execute_result"
    }
   ],
   "source": [
    "len(y)\n"
   ]
  },
  {
   "cell_type": "code",
   "execution_count": 10,
   "id": "guilty-mentor",
   "metadata": {},
   "outputs": [],
   "source": [
    "x=np.array(x)\n",
    "y=np.array(y)"
   ]
  },
  {
   "cell_type": "code",
   "execution_count": 11,
   "id": "patient-pressing",
   "metadata": {},
   "outputs": [
    {
     "data": {
      "text/plain": [
       "((10000, 28, 28, 3), (10000,))"
      ]
     },
     "execution_count": 11,
     "metadata": {},
     "output_type": "execute_result"
    }
   ],
   "source": [
    "x.shape , y.shape"
   ]
  },
  {
   "cell_type": "markdown",
   "id": "creative-ordinary",
   "metadata": {},
   "source": [
    "# Test"
   ]
  },
  {
   "cell_type": "code",
   "execution_count": 14,
   "id": "applied-evolution",
   "metadata": {},
   "outputs": [],
   "source": [
    "img_with_test=[]\n",
    "for i in os.listdir(r'C:\\Users\\Lenovo\\Downloads\\facemask data\\Face Mask Dataset\\Test\\WithMask'):\n",
    "    img=cv2.imread(os.path.join(r'C:\\Users\\Lenovo\\Downloads\\facemask data\\Face Mask Dataset\\Test\\WithMask',i))\n",
    "    img=cv2.resize(img,(28,28))\n",
    "    img_with_test.append(img)"
   ]
  },
  {
   "cell_type": "code",
   "execution_count": 15,
   "id": "growing-custom",
   "metadata": {},
   "outputs": [],
   "source": [
    "img_without_test=[]\n",
    "for i in os.listdir(r'C:\\Users\\Lenovo\\Downloads\\facemask data\\Face Mask Dataset\\Test\\WithoutMask'):\n",
    "    img=cv2.imread(os.path.join(r'C:\\Users\\Lenovo\\Downloads\\facemask data\\Face Mask Dataset\\Test\\WithoutMask',i))\n",
    "    img=cv2.resize(img,(28,28))\n",
    "    img_without_test.append(img)"
   ]
  },
  {
   "cell_type": "code",
   "execution_count": 16,
   "id": "intelligent-convergence",
   "metadata": {},
   "outputs": [],
   "source": [
    "x_test=img_with_test + img_without_test"
   ]
  },
  {
   "cell_type": "code",
   "execution_count": 17,
   "id": "preliminary-alcohol",
   "metadata": {},
   "outputs": [],
   "source": [
    "y_test=[]# 0=>with 1=>without\n",
    "for i in range(len(img_with_test)):\n",
    "    y_test.append(0)"
   ]
  },
  {
   "cell_type": "code",
   "execution_count": 18,
   "id": "electrical-jewel",
   "metadata": {},
   "outputs": [],
   "source": [
    "for i in range(len(img_without_test)):\n",
    "    y_test.append(1)"
   ]
  },
  {
   "cell_type": "code",
   "execution_count": 19,
   "id": "creative-aggregate",
   "metadata": {},
   "outputs": [],
   "source": [
    "x_test=np.array(x_test)\n",
    "y_test=np.array(y_test)"
   ]
  },
  {
   "cell_type": "code",
   "execution_count": 20,
   "id": "continental-interface",
   "metadata": {},
   "outputs": [
    {
     "data": {
      "text/plain": [
       "((992, 28, 28, 3), (992,))"
      ]
     },
     "execution_count": 20,
     "metadata": {},
     "output_type": "execute_result"
    }
   ],
   "source": [
    "x_test.shape , y_test.shape"
   ]
  },
  {
   "cell_type": "markdown",
   "id": "statistical-criminal",
   "metadata": {},
   "source": [
    "# Model "
   ]
  },
  {
   "cell_type": "code",
   "execution_count": 40,
   "id": "biblical-homework",
   "metadata": {},
   "outputs": [],
   "source": [
    "from tensorflow.keras.models import Sequential\n",
    "from tensorflow.keras.layers import Dense,  Conv2D, Flatten, MaxPool2D,Dropout"
   ]
  },
  {
   "cell_type": "code",
   "execution_count": 52,
   "id": "swedish-telephone",
   "metadata": {},
   "outputs": [],
   "source": [
    "model=Sequential()\n",
    "model.add(Conv2D(16,(5,5),input_shape=(28,28,3)))\n",
    "model.add(MaxPool2D())\n",
    "model.add(Dropout(0.5))\n",
    "model.add(Conv2D(32,(3,3),padding='same' ))\n",
    "model.add(MaxPool2D())\n",
    "model.add(Dropout(0.5))\n",
    "model.add(Flatten())\n",
    "model.add(Dense(32,activation='relu'))\n",
    "model.add(Dense(1,activation='sigmoid'))"
   ]
  },
  {
   "cell_type": "code",
   "execution_count": 53,
   "id": "lovely-offset",
   "metadata": {},
   "outputs": [],
   "source": [
    "model.compile(optimizer = 'adam',loss='binary_crossentropy',metrics=['accuracy'])"
   ]
  },
  {
   "cell_type": "code",
   "execution_count": 54,
   "id": "supreme-california",
   "metadata": {},
   "outputs": [
    {
     "data": {
      "text/plain": [
       "(992, 28, 28, 3)"
      ]
     },
     "execution_count": 54,
     "metadata": {},
     "output_type": "execute_result"
    }
   ],
   "source": [
    "x_test.shape"
   ]
  },
  {
   "cell_type": "code",
   "execution_count": 55,
   "id": "invisible-sharp",
   "metadata": {},
   "outputs": [
    {
     "name": "stdout",
     "output_type": "stream",
     "text": [
      "Epoch 1/10\n",
      "157/157 [==============================] - 3s 17ms/step - loss: 0.2954 - accuracy: 0.8851 - val_loss: 0.1992 - val_accuracy: 0.9183\n",
      "Epoch 2/10\n",
      "157/157 [==============================] - 3s 16ms/step - loss: 0.1158 - accuracy: 0.9564 - val_loss: 0.1903 - val_accuracy: 0.9345\n",
      "Epoch 3/10\n",
      "157/157 [==============================] - 3s 16ms/step - loss: 0.0883 - accuracy: 0.9692 - val_loss: 0.1344 - val_accuracy: 0.9536\n",
      "Epoch 4/10\n",
      "157/157 [==============================] - 3s 17ms/step - loss: 0.0782 - accuracy: 0.9727 - val_loss: 0.1266 - val_accuracy: 0.9556\n",
      "Epoch 5/10\n",
      "157/157 [==============================] - 2s 16ms/step - loss: 0.0689 - accuracy: 0.9756 - val_loss: 0.1369 - val_accuracy: 0.9577\n",
      "Epoch 6/10\n",
      "157/157 [==============================] - 3s 16ms/step - loss: 0.0595 - accuracy: 0.9791 - val_loss: 0.1057 - val_accuracy: 0.9667\n",
      "Epoch 7/10\n",
      "157/157 [==============================] - 3s 16ms/step - loss: 0.0555 - accuracy: 0.9805 - val_loss: 0.1072 - val_accuracy: 0.9677\n",
      "Epoch 8/10\n",
      "157/157 [==============================] - 3s 17ms/step - loss: 0.0580 - accuracy: 0.9785 - val_loss: 0.1483 - val_accuracy: 0.9546\n",
      "Epoch 9/10\n",
      "157/157 [==============================] - 3s 17ms/step - loss: 0.0521 - accuracy: 0.9820 - val_loss: 0.1182 - val_accuracy: 0.9677\n",
      "Epoch 10/10\n",
      "157/157 [==============================] - 3s 17ms/step - loss: 0.0463 - accuracy: 0.9841 - val_loss: 0.0793 - val_accuracy: 0.9748\n"
     ]
    },
    {
     "data": {
      "text/plain": [
       "<tensorflow.python.keras.callbacks.History at 0x251acf23688>"
      ]
     },
     "execution_count": 55,
     "metadata": {},
     "output_type": "execute_result"
    }
   ],
   "source": [
    "model.fit(x,y,batch_size=64,epochs=10,validation_data=(x_test,y_test))"
   ]
  },
  {
   "cell_type": "code",
   "execution_count": 33,
   "id": "intensive-lending",
   "metadata": {},
   "outputs": [
    {
     "data": {
      "text/plain": [
       "array([[0.00127652]], dtype=float32)"
      ]
     },
     "execution_count": 33,
     "metadata": {},
     "output_type": "execute_result"
    }
   ],
   "source": [
    "img=cv2.imread(r'C:\\Users\\Lenovo\\Downloads\\facemask data\\Face Mask Dataset\\Test\\WithMask\\187.png')\n",
    "img=cv2.resize(img,(28,28))\n",
    "img=img.reshape(-1,28,28,3)/255\n",
    "model.predict(img)\n"
   ]
  },
  {
   "cell_type": "code",
   "execution_count": 34,
   "id": "severe-classic",
   "metadata": {},
   "outputs": [],
   "source": [
    "def predict_mask(img):\n",
    "    img=cv2.resize(img,(28,28))\n",
    "    img=cv2.cvtColor(img, cv2.COLOR_BGR2GRAY)\n",
    "    img=img.reshape(-1,28,28,1)/255\n",
    "    model=load_model('Facemask_recognition.h5')\n",
    "    p=model.predict(img)\n",
    "    if p>0.5:\n",
    "        return 'Without Mask'\n",
    "    else:\n",
    "        return 'With Mask'\n",
    "    "
   ]
  },
  {
   "cell_type": "code",
   "execution_count": null,
   "id": "lesbian-estonia",
   "metadata": {},
   "outputs": [],
   "source": [
    "model.save('Facemask_recognition.h5')"
   ]
  },
  {
   "cell_type": "code",
   "execution_count": 39,
   "id": "partial-interest",
   "metadata": {},
   "outputs": [
    {
     "data": {
      "text/plain": [
       "'With Mask'"
      ]
     },
     "execution_count": 39,
     "metadata": {},
     "output_type": "execute_result"
    }
   ],
   "source": [
    "predict_mask(cv2.imread(r'C:\\Users\\Lenovo\\Downloads\\facemask data\\Face Mask Dataset\\Test\\WithMask\\187.png'))"
   ]
  },
  {
   "cell_type": "code",
   "execution_count": null,
   "id": "attached-benjamin",
   "metadata": {},
   "outputs": [],
   "source": [
    "## model=load_model('Facemask_recognition.h5')"
   ]
  }
 ],
 "metadata": {
  "kernelspec": {
   "display_name": "Python 3",
   "language": "python",
   "name": "python3"
  },
  "language_info": {
   "codemirror_mode": {
    "name": "ipython",
    "version": 3
   },
   "file_extension": ".py",
   "mimetype": "text/x-python",
   "name": "python",
   "nbconvert_exporter": "python",
   "pygments_lexer": "ipython3",
   "version": "3.7.10"
  }
 },
 "nbformat": 4,
 "nbformat_minor": 5
}
